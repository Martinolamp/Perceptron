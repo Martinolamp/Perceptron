{
 "cells": [
  {
   "cell_type": "code",
   "execution_count": 6,
   "metadata": {},
   "outputs": [],
   "source": [
    "import matplotlib.pyplot as plt\n",
    "import numpy as np\n",
    "import csv\n",
    "import pandas as pd\n"
   ]
  },
  {
   "cell_type": "markdown",
   "metadata": {},
   "source": [
    "### First of all we should read a data for classification.\n",
    "Data will be read to X variable (input ) and Y (output)"
   ]
  },
  {
   "cell_type": "code",
   "execution_count": 7,
   "metadata": {},
   "outputs": [
    {
     "name": "stdout",
     "output_type": "stream",
     "text": [
      "151\n"
     ]
    }
   ],
   "source": [
    "\n",
    "line_count=0\n",
    "with open('iris-write-from-docker.csv')as file:\n",
    "    \n",
    "    csv_reader = csv.reader(file, delimiter=',')\n",
    "    \n",
    "    \n",
    "    X=[]\n",
    "    Y=[]\n",
    "    for row in csv_reader:\n",
    "        if line_count!=0 and line_count<100:\n",
    "            add=[]\n",
    "            genere=row[4]\n",
    "            genere =1 if genere=='Iris-setosa' else -1\n",
    "            add=float(row[0]),float(row[2])\n",
    "            add=list(add)\n",
    "            X.append(add)\n",
    "            Y.append(genere)\n",
    "            line_count+=1\n",
    "        else:\n",
    "             line_count+=1\n",
    "            \n",
    "   \n",
    "    print(line_count)"
   ]
  },
  {
   "cell_type": "markdown",
   "metadata": {},
   "source": [
    "#####\n",
    "Below you can see an implementation of simple perceptron. In this scenario weights are updated separately for every training example.\n",
    "Weights are randomly assigned with values coming from normal distribution. \n",
    "Eta parameter - Training rate should be small but not too small, because then perceptron will learn slowly."
   ]
  },
  {
   "cell_type": "code",
   "execution_count": 8,
   "metadata": {},
   "outputs": [],
   "source": [
    "class Perceptron(object):\n",
    "    def __init__(self,eta,n,randstate):\n",
    "        self.eta=eta\n",
    "        self.n=n #liczba iteracji\n",
    "        self.randstate=randstate\n",
    "    def fit(self,X,Y):\n",
    "        #X-wektor wejsciowy\n",
    "        #Y-wektor przypisujący klasy\n",
    "        rgen = np.random.RandomState(self.randstate)\n",
    "        self.w= np.random.normal(loc=0.0,scale=0.01,size=3)#wagi\n",
    "        self.error = []\n",
    "        \n",
    "        for _ in range(self.n):\n",
    "            error=0\n",
    "            \n",
    "            for x,target in zip(X,Y):\n",
    "                update=self.eta*(target-(self.predict(x)))\n",
    "                \n",
    "                \n",
    "                \n",
    "                #self.w[1:]=[a*update+a for a in self.w[1:]]\n",
    "                self.w[1:]=[x[a]*update+self.w[a+1] for a in range(len(x))]\n",
    "                \n",
    "                self.w[0]=self.w[0]+update\n",
    "                \n",
    "                error  += int(update != 0.0)\n",
    "                \n",
    "            self.error.append(error)\n",
    "        \n",
    "        return self\n",
    "\n",
    "    def predict(self,x):\n",
    "        \n",
    "        dot_prod=0\n",
    "        for i,k in zip(x,self.w[1:]):\n",
    "            \n",
    "            dot_prod=i*k+dot_prod\n",
    "        dot_prod=dot_prod+self.w[0]\n",
    "        \n",
    "        result=1 if dot_prod>=0 else -1\n",
    "        \n",
    "        return result\n",
    "            \n",
    "        \n",
    "        "
   ]
  },
  {
   "cell_type": "markdown",
   "metadata": {},
   "source": [
    "### \n",
    "As we can see on a plot perceptron managed to separe two iris classes after 6 epochs. "
   ]
  },
  {
   "cell_type": "code",
   "execution_count": 9,
   "metadata": {},
   "outputs": [
    {
     "data": {
      "text/plain": [
       "Text(0, 0.5, 'Update count')"
      ]
     },
     "execution_count": 9,
     "metadata": {},
     "output_type": "execute_result"
    },
    {
     "data": {
      "image/png": "[encoded data removed]",
      "text/plain": [
       "<Figure size 432x288 with 1 Axes>"
      ]
     },
     "metadata": {
      "needs_background": "light"
     },
     "output_type": "display_data"
    }
   ],
   "source": [
    "a=Perceptron(0.05,10,1)\n",
    "a.fit(X,Y)\n",
    "a.error\n",
    "\n",
    "plt.plot(list(range(1,(len(a.error)+1))),a.error)\n",
    "plt.xlabel('Epochs')\n",
    "plt.ylabel('Update count')\n",
    "\n",
    "\n"
   ]
  },
  {
   "cell_type": "code",
   "execution_count": 10,
   "metadata": {},
   "outputs": [],
   "source": [
    "#df_init\n",
    "X_0=[x[0] for x in X]\n",
    "X_1=[x[1] for x in X]\n",
    "Y=[y for y in Y]\n",
    "d={'x1':X_0,'x2':X_1,'y':Y}\n",
    "data_to_plot=pd.DataFrame(data=d)"
   ]
  },
  {
   "cell_type": "code",
   "execution_count": 11,
   "metadata": {},
   "outputs": [],
   "source": [
    "slope=-(a.w[1]/a.w[2])\n",
    "wolny=-(a.w[0]/a.w[2])"
   ]
  },
  {
   "cell_type": "code",
   "execution_count": 12,
   "metadata": {},
   "outputs": [],
   "source": [
    "x_range=np.arange(3,8,0.1)\n",
    "y_calc=[i*slope+wolny for i in x_range]"
   ]
  },
  {
   "cell_type": "markdown",
   "metadata": {},
   "source": [
    "As we can see on a plot below Iris setosa can be easily separated from Iris versicolor with bonduary line"
   ]
  },
  {
   "cell_type": "code",
   "execution_count": 13,
   "metadata": {},
   "outputs": [
    {
     "data": {
      "text/plain": [
       "[<matplotlib.lines.Line2D at 0xd20d6d0>]"
      ]
     },
     "execution_count": 13,
     "metadata": {},
     "output_type": "execute_result"
    },
    {
     "data": {
      "image/png": "[encoded data removed]",
      "text/plain": [
       "<Figure size 432x288 with 1 Axes>"
      ]
     },
     "metadata": {
      "needs_background": "light"
     },
     "output_type": "display_data"
    }
   ],
   "source": [
    "a=data_to_plot.loc[:100,['x1','x2','y']].values\n",
    "plt.scatter(a[:50,0],a[:50,1],color='blue')\n",
    "plt.scatter(a[51:,0],a[51:,1],color='red')\n",
    "\n",
    "plt.plot(x_range,y_calc)\n",
    "\n"
   ]
  },
  {
   "cell_type": "markdown",
   "metadata": {},
   "source": [
    "I've implemented below object named Perceptron_adeline. The difference between \"base\" implementationa and adeline is how the weights are updated. In adeline model weights are updated with gradient descent methods. Weights are updated based on all training dataset. If'you are about to minimise cost function with gradient descent you have to remember to set appropriate learning rate. The consequences of choosing inapropriate learning coefficient will be shown on plots."
   ]
  },
  {
   "cell_type": "code",
   "execution_count": 14,
   "metadata": {},
   "outputs": [],
   "source": [
    "class Perceptron_adeline(Perceptron):\n",
    "    \n",
    "    def fit(self,X,Y):\n",
    "        #self.w= np.random.normal(loc=0.0,scale=0.01,size=len(X[1])+1)\n",
    "        self.w=[0.1,0.2,0.3]\n",
    "        self.cost_=[]\n",
    "    \n",
    "        for _ in range(self.n):\n",
    "            \n",
    "            \n",
    "            output = self.dot_prod(X)\n",
    "           \n",
    "            errors = (Y - output)\n",
    "            \n",
    "            self.w[1:] += self.eta * (X.T.dot(errors))\n",
    "            \n",
    "            \n",
    "            self.w[0] += self.eta * (errors.sum())\n",
    "            cost = (errors**2).sum() / 2.0\n",
    "            self.cost_.append(cost)\n",
    "            \n",
    "        \n",
    "        return self\n",
    "\n",
    "    def dot_prod(self,X):\n",
    "        \n",
    "        return np.dot(X,self.w[1:])+self.w[0]\n",
    "    "
   ]
  },
  {
   "cell_type": "code",
   "execution_count": 40,
   "metadata": {},
   "outputs": [
    {
     "data": {
      "text/plain": [
       "<__main__.Perceptron_adeline at 0xd4bd3f0>"
      ]
     },
     "execution_count": 40,
     "metadata": {},
     "output_type": "execute_result"
    }
   ],
   "source": [
    "adeline=Perceptron_adeline(0.00001,200,1)\n",
    "adeline.fit(data_to_plot[['x1','x2']].values,data_to_plot['y'].values)"
   ]
  },
  {
   "cell_type": "code",
   "execution_count": 19,
   "metadata": {},
   "outputs": [],
   "source": [
    "\n",
    "slope=-(adeline.w[1]/adeline.w[2])\n",
    "wolny=-(adeline.w[0]/adeline.w[2])"
   ]
  },
  {
   "cell_type": "code",
   "execution_count": 20,
   "metadata": {},
   "outputs": [
    {
     "data": {
      "text/plain": [
       "[<matplotlib.lines.Line2D at 0xd2a82f0>]"
      ]
     },
     "execution_count": 20,
     "metadata": {},
     "output_type": "execute_result"
    },
    {
     "data": {
      "image/png": "[encoded data removed]",
      "text/plain": [
       "<Figure size 432x288 with 1 Axes>"
      ]
     },
     "metadata": {
      "needs_background": "light"
     },
     "output_type": "display_data"
    }
   ],
   "source": [
    "x_range=np.arange(3,8,0.1)\n",
    "y_calc=[i*slope+wolny for i in x_range]\n",
    "a=data_to_plot.loc[:100,['x1','x2','y']].values\n",
    "plt.scatter(a[:50,0],a[:50,1],color='blue')\n",
    "plt.scatter(a[51:,0],a[51:,1],color='red')\n",
    "\n",
    "plt.plot(x_range,y_calc)"
   ]
  },
  {
   "cell_type": "code",
   "execution_count": 235,
   "metadata": {},
   "outputs": [],
   "source": [
    "data=data_to_plot[['x1','x2']].values"
   ]
  },
  {
   "cell_type": "code",
   "execution_count": 239,
   "metadata": {},
   "outputs": [
    {
     "data": {
      "text/plain": [
       "numpy.ndarray"
      ]
     },
     "execution_count": 239,
     "metadata": {},
     "output_type": "execute_result"
    }
   ],
   "source": [
    "type(data)"
   ]
  },
  {
   "cell_type": "markdown",
   "metadata": {},
   "source": [
    "#\n",
    "Below I'm gonna create plots that will wisualise the tendency of cost function for each epoch with different learning rate value.\n",
    "It's visible that is learning rate is small perceptron learns slowly, but is convergent. If learning rate is bigger perceptron is divergent which means that we are far from minimum."
   ]
  },
  {
   "cell_type": "code",
   "execution_count": 34,
   "metadata": {},
   "outputs": [
    {
     "data": {
      "text/plain": [
       "Text(0.5, 1.0, 'Learning rate 0.0001')"
      ]
     },
     "execution_count": 34,
     "metadata": {},
     "output_type": "execute_result"
    },
    {
     "data": {
      "image/png": "[encoded data removed]",
      "text/plain": [
       "<Figure size 432x288 with 1 Axes>"
      ]
     },
     "metadata": {
      "needs_background": "light"
     },
     "output_type": "display_data"
    }
   ],
   "source": [
    "plt.plot(range(len(adeline.cost_)),adeline.cost_)\n",
    "plt.xlabel('Epoch')\n",
    "plt.ylabel('Cost function')\n",
    "plt.title('Learning rate 0.0001')"
   ]
  },
  {
   "cell_type": "code",
   "execution_count": 31,
   "metadata": {},
   "outputs": [
    {
     "data": {
      "text/plain": [
       "Text(0.5, 1.0, 'Learning rate 0.01')"
      ]
     },
     "execution_count": 31,
     "metadata": {},
     "output_type": "execute_result"
    },
    {
     "data": {
      "image/png": "[encoded data removed]",
      "text/plain": [
       "<Figure size 432x288 with 1 Axes>"
      ]
     },
     "metadata": {
      "needs_background": "light"
     },
     "output_type": "display_data"
    }
   ],
   "source": [
    "plt.plot(range(len(adeline.cost_)),adeline.cost_)\n",
    "plt.xlabel('Epoch')\n",
    "plt.ylabel('Cost function')\n",
    "plt.title('Learning rate 0.01')"
   ]
  },
  {
   "cell_type": "markdown",
   "metadata": {},
   "source": [
    "Now we can visualize how many epoch will it take perceptron to diverge.\n",
    "Analyzing plot we can see that after 100 iteration's perceptron is close to minimum of cost functions which simply mean that we cannot do a lot better to find optimal weights. If learning rate is lower our algorithm learn's a lot slower what  can easily observed on a plot."
   ]
  },
  {
   "cell_type": "code",
   "execution_count": 37,
   "metadata": {},
   "outputs": [
    {
     "data": {
      "text/plain": [
       "Text(0.5, 1.0, 'Learning rate  0.0001')"
      ]
     },
     "execution_count": 37,
     "metadata": {},
     "output_type": "execute_result"
    },
    {
     "data": {
      "image/png": "[encoded data removed]",
      "text/plain": [
       "<Figure size 432x288 with 1 Axes>"
      ]
     },
     "metadata": {
      "needs_background": "light"
     },
     "output_type": "display_data"
    }
   ],
   "source": [
    "plt.plot(range(len(adeline.cost_)),adeline.cost_)\n",
    "plt.xlabel('Epoch')\n",
    "plt.ylabel('Cost function')\n",
    "plt.title('Learning rate  0.0001')"
   ]
  },
  {
   "cell_type": "code",
   "execution_count": 41,
   "metadata": {},
   "outputs": [
    {
     "data": {
      "text/plain": [
       "Text(0.5, 1.0, 'Learning rate  0.001')"
      ]
     },
     "execution_count": 41,
     "metadata": {},
     "output_type": "execute_result"
    },
    {
     "data": {
      "image/png": "[encoded data removed]",
      "text/plain": [
       "<Figure size 432x288 with 1 Axes>"
      ]
     },
     "metadata": {
      "needs_background": "light"
     },
     "output_type": "display_data"
    }
   ],
   "source": [
    "plt.plot(range(len(adeline.cost_)),adeline.cost_)\n",
    "plt.xlabel('Epoch')\n",
    "plt.ylabel('Cost function')\n",
    "plt.title('Learning rate  0.00001')"
   ]
  },
  {
   "cell_type": "code",
   "execution_count": null,
   "metadata": {},
   "outputs": [],
   "source": []
  }
 ],
 "metadata": {
  "kernelspec": {
   "display_name": "Python 3",
   "language": "python",
   "name": "python3"
  },
  "language_info": {
   "codemirror_mode": {
    "name": "ipython",
    "version": 3
   },
   "file_extension": ".py",
   "mimetype": "text/x-python",
   "name": "python",
   "nbconvert_exporter": "python",
   "pygments_lexer": "ipython3",
   "version": "3.7.1"
  }
 },
 "nbformat": 4,
 "nbformat_minor": 4
}
